{
  "cells": [
    {
      "cell_type": "markdown",
      "metadata": {
        "id": "SvLNi3kfsQNI"
      },
      "source": [
        "![TheBridge_Python_v0.png](attachment:TheBridge_Python_v0.png)"
      ]
    },
    {
      "cell_type": "markdown",
      "metadata": {
        "id": "xYZY2eC6sQNL"
      },
      "source": [
        "## Colecciones Python: Diccionarios\n"
      ]
    },
    {
      "cell_type": "markdown",
      "metadata": {
        "id": "0ou5tr8PsQNM"
      },
      "source": [
        "### Contenidos\n"
      ]
    },
    {
      "cell_type": "markdown",
      "metadata": {
        "id": "5QziURv6sQNM"
      },
      "source": [
        "* [Introducción](#Introducción)\n",
        "\n",
        "* [Acceso, modificación, añadir, eliminar](#Acceso,-modificación,-añadir,-eliminar)\n",
        "\n",
        "* [Iterar](#Iterar)\n",
        "\n"
      ]
    },
    {
      "cell_type": "markdown",
      "metadata": {
        "id": "77rxckhisQNN"
      },
      "source": [
        "### Introducción\n",
        "[al indice](#Contenidos)  \n",
        "\n",
        "En este tipo de colecciones no solo podemos agrupar datos, sino que tenemos la posibilidad de establecer una relación entre los mismos, con la forma **clave: valor**.\n",
        "\n",
        "La sintaxis  es mediante llaves `{}`\n",
        "\n",
        "> nombre_diccionario = {clave1: valor1, clave2: valor2, clave3: valor3}\n",
        "\n",
        "Si veíamos que las listas son elementos mutables y y ordenadas, y las tuplas inmutables y ordenadas, los diccionarios son:\n",
        "\n",
        "* **Mutables**: podemos modificar sus elementos\n",
        "* **Desordenado**: la potencia de acceso de los diccionarios es su formato clave-valor, no su orden. Aun así, el dicionario conserva el orden de los elemento según los vamos insertando.\n",
        "\n",
        "Vamos a declarar un diccionario en el que definiremos elementos de un coche"
      ]
    },
    {
      "cell_type": "code",
      "execution_count": 2,
      "metadata": {
        "id": "Dj3cCQyksQNN"
      },
      "outputs": [
        {
          "data": {
            "text/plain": [
              "{'color': 'rojo',\n",
              " 'marca': 'tesla',\n",
              " 'modelo': 'cybertruck',\n",
              " 'peso': 3500,\n",
              " 'cambio automático': True}"
            ]
          },
          "execution_count": 2,
          "metadata": {},
          "output_type": "execute_result"
        }
      ],
      "source": [
        "coche_dict = {\n",
        "    \"color\": \"rojo\",\n",
        "    \"marca\": \"tesla\",\n",
        "    \"modelo\": \"cybertruck\",\n",
        "    \"peso\": 3500,\n",
        "    \"cambio automático\": True\n",
        "}\n",
        "coche_dict"
      ]
    },
    {
      "cell_type": "markdown",
      "metadata": {
        "id": "9CYxakSDsQNO"
      },
      "source": [
        "Se puede almacenar todo tipo de datos: numero, cadena, booleano, listas, tuplas, diccionarios...\n",
        "\n",
        "Cuando declaremos el diccionario, lo podemos hacer en una sola linea `coche = {\"color\"=\"Gris\", \"marca\"...}`, aunque se recomienda por sencillez a la hora de leer el código, realizar esta acción en varias líneas. Si escribimos el primer elemento y presionamos enter, Jupyter introduce automáticamente la tabulación."
      ]
    },
    {
      "cell_type": "markdown",
      "metadata": {
        "id": "e51zNhh4sQNO"
      },
      "source": [
        "### Acceso, modificación, añadir, eliminar\n",
        "[al indice](#Contenidos)  \n",
        "\n"
      ]
    },
    {
      "cell_type": "code",
      "execution_count": null,
      "metadata": {
        "id": "RuJOVZxAsQNO"
      },
      "outputs": [
        {
          "name": "stdout",
          "output_type": "stream",
          "text": [
            "['rojo', 'gris']\n",
            "3500\n",
            "{'color': ['rojo', 'gris'], 'marca': 'tesla', 'modelo': 'cybertruck', 'peso': 3500, 'cambio automático': True}\n",
            "6\n",
            "{'color': ['rojo', 'gris'], 'marca': 'tesla', 'modelo': 'cybertruck', 'peso': 3500, 'cambio automático': True}\n",
            "dict_keys(['color', 'marca', 'modelo', 'peso', 'cambio automático'])\n",
            "dict_values([['rojo', 'gris'], 'tesla', 'cybertruck', 3500, True])\n"
          ]
        }
      ],
      "source": [
        "# acceso\n",
        "print(coche_dict[\"color\"])\n",
        "print(coche_dict[\"peso\"])\n",
        "\n",
        "#print(coche_dict[\"puertas\"])\n",
        "coche_dict[\"color\"] = [\"rojo\",\"gris\"]\n",
        "print(coche_dict)\n",
        "\n",
        "# añadir elemento\n",
        "coche_dict[\"puertas\"] = 6\n",
        "print(coche_dict[\"puertas\"])\n",
        "\n",
        "# eliminar elemento\n",
        "del coche_dict[\"puertas\"]\n",
        "print(coche_dict)\n",
        "\n",
        "# conocer las claves del diccionario\n",
        "print(coche_dict.keys())\n",
        "\n",
        "# conocer los valores del diccionario\n",
        "print(coche_dict.values())"
      ]
    },
    {
      "cell_type": "markdown",
      "metadata": {
        "id": "MyS52lrssQNP"
      },
      "source": [
        "Para más detalle de los métodos de los diccionario puedes [consultar la documentación](https://www.w3schools.com/python/python_ref_dictionary.asp)"
      ]
    },
    {
      "cell_type": "code",
      "execution_count": 14,
      "metadata": {
        "id": "WKpt2kC5sQNP"
      },
      "outputs": [
        {
          "name": "stdout",
          "output_type": "stream",
          "text": [
            "{'direccion': 'Montesa 12', 'tamaño': 123}\n"
          ]
        }
      ],
      "source": [
        "# Podemos empezar tambien mediante un diccionario vacío\n",
        "tienda = {}\n",
        "tienda[\"direccion\"] = \"Montesa 12\"\n",
        "tienda[\"tamaño\"] = 123\n",
        "print(tienda)"
      ]
    },
    {
      "cell_type": "markdown",
      "metadata": {
        "id": "-SpTf0ZlsQNQ"
      },
      "source": [
        "<table align=\"left\">\n",
        " <tr>\n",
        "     <td style=\"text-align:left\">\n",
        "         <h3>ERRORES en diccionarios</h3>\n",
        "         \n",
        " </td></tr>\n",
        "</table>"
      ]
    },
    {
      "cell_type": "markdown",
      "metadata": {
        "id": "mk1xtEWasQNQ"
      },
      "source": [
        "Si hay una clave que no existe en el diccionario, saltará un error.\n",
        "\n",
        "En este caso, el error es bastante intuitivo: `KeyError`, no encuentra la clave"
      ]
    },
    {
      "cell_type": "code",
      "execution_count": null,
      "metadata": {
        "id": "bzTYqWKdsQNQ"
      },
      "outputs": [
        {
          "ename": "KeyError",
          "evalue": "'puertas'",
          "output_type": "error",
          "traceback": [
            "\u001b[31m---------------------------------------------------------------------------\u001b[39m",
            "\u001b[31mKeyError\u001b[39m                                  Traceback (most recent call last)",
            "\u001b[36mCell\u001b[39m\u001b[36m \u001b[39m\u001b[32mIn[15]\u001b[39m\u001b[32m, line 1\u001b[39m\n\u001b[32m----> \u001b[39m\u001b[32m1\u001b[39m \u001b[43mcoche_dict\u001b[49m\u001b[43m[\u001b[49m\u001b[33;43m\"\u001b[39;49m\u001b[33;43mpuertas\u001b[39;49m\u001b[33;43m\"\u001b[39;49m\u001b[43m]\u001b[49m\n",
            "\u001b[31mKeyError\u001b[39m: 'puertas'"
          ]
        }
      ],
      "source": [
        "coche_dict[\"puertas\"]"
      ]
    },
    {
      "cell_type": "markdown",
      "metadata": {
        "id": "VVts14uPsQNQ"
      },
      "source": [
        "**¿Cómo solventar esto?** Sirmpre tienes la opción de usar el bloque `try/except`, pero en este caso, los diccionarios tienen una solución más elegante: `mi_diccionario.get(clave, valor si no existe)`"
      ]
    },
    {
      "cell_type": "code",
      "execution_count": 18,
      "metadata": {
        "id": "Q5gpCorBsQNQ"
      },
      "outputs": [
        {
          "name": "stdout",
          "output_type": "stream",
          "text": [
            "4\n",
            "tesla\n"
          ]
        }
      ],
      "source": [
        "numero_de_puertas = coche_dict.get(\"puertas\",4)\n",
        "print(numero_de_puertas)\n",
        "marca = coche_dict.get(\"marca\", \"desconocida\")\n",
        "print(marca)"
      ]
    },
    {
      "cell_type": "markdown",
      "metadata": {
        "id": "KAG2tQcRsQNQ"
      },
      "source": [
        "### Iterar\n",
        "[al indice](#Contenidos)  \n",
        "\n",
        "Que el diccionario no esté ordenado, no quiere decir que no podamos iterar sus elementos, ya que también es un **interable**, como los son las listas o las tuplas."
      ]
    },
    {
      "cell_type": "code",
      "execution_count": 20,
      "metadata": {
        "id": "THvh7ZulsQNQ"
      },
      "outputs": [
        {
          "name": "stdout",
          "output_type": "stream",
          "text": [
            "color\n",
            "['rojo', 'gris']\n",
            "marca\n",
            "tesla\n",
            "modelo\n",
            "cybertruck\n",
            "peso\n",
            "3500\n",
            "cambio automático\n",
            "True\n"
          ]
        }
      ],
      "source": [
        "for i in coche_dict:\n",
        "    print(i)\n",
        "    print(coche_dict[i])"
      ]
    },
    {
      "cell_type": "code",
      "execution_count": null,
      "metadata": {
        "id": "6XJwpmDmsQNQ"
      },
      "outputs": [
        {
          "name": "stdout",
          "output_type": "stream",
          "text": [
            "color , ['rojo', 'gris']\n",
            "marca , tesla\n",
            "modelo , cybertruck\n",
            "peso , 3500\n",
            "cambio automático , True\n"
          ]
        }
      ],
      "source": [
        "for i in coche_dict:\n",
        "    print(i, \":\", coche_dict[i])"
      ]
    },
    {
      "cell_type": "code",
      "execution_count": 22,
      "metadata": {},
      "outputs": [
        {
          "data": {
            "text/plain": [
              "dict_items([('color', ['rojo', 'gris']), ('marca', 'tesla'), ('modelo', 'cybertruck'), ('peso', 3500), ('cambio automático', True)])"
            ]
          },
          "execution_count": 22,
          "metadata": {},
          "output_type": "execute_result"
        }
      ],
      "source": [
        "coche_dict.items()"
      ]
    },
    {
      "cell_type": "code",
      "execution_count": 23,
      "metadata": {},
      "outputs": [
        {
          "name": "stdout",
          "output_type": "stream",
          "text": [
            "color : ['rojo', 'gris']\n",
            "marca : tesla\n",
            "modelo : cybertruck\n",
            "peso : 3500\n",
            "cambio automático : True\n"
          ]
        }
      ],
      "source": [
        "for clave, valor in coche_dict.items():\n",
        "    print(clave, \":\", valor)"
      ]
    },
    {
      "cell_type": "code",
      "execution_count": null,
      "metadata": {},
      "outputs": [],
      "source": []
    }
  ],
  "metadata": {
    "colab": {
      "provenance": []
    },
    "kernelspec": {
      "display_name": "Python 3",
      "language": "python",
      "name": "python3"
    },
    "language_info": {
      "codemirror_mode": {
        "name": "ipython",
        "version": 3
      },
      "file_extension": ".py",
      "mimetype": "text/x-python",
      "name": "python",
      "nbconvert_exporter": "python",
      "pygments_lexer": "ipython3",
      "version": "3.11.0"
    }
  },
  "nbformat": 4,
  "nbformat_minor": 0
}
