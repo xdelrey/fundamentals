{
  "cells": [
    {
      "cell_type": "markdown",
      "metadata": {
        "id": "pGcm3_iWzOTv"
      },
      "source": [
        "![TheBridge_Python_v0.png](attachment:TheBridge_Python_v0.png)"
      ]
    },
    {
      "cell_type": "markdown",
      "metadata": {
        "id": "luysepyzzOTx"
      },
      "source": [
        "# Python Colecciones: Listas\n",
        "\n",
        "\n",
        "Las colecciones son una manera de agrupar varios elementos. En otros notebooks vimos cómo funcionan las listas, que es la colección más usada, pero se trata solo de la punta del iceberg. Con Python tenemos varias manera de almacenar conjuntos de datos, dependiendo del tipo de dato, finalidad, tipo de acceso y rendimiento.\n",
        "  \n",
        "En este primer notebook vamos a repasar las listas y luego continuaremos con los otros tipo de colecciones básicos que tenemos en Python."
      ]
    },
    {
      "cell_type": "markdown",
      "metadata": {
        "id": "4N8n7MHCzOTz"
      },
      "source": [
        "##  Listas\n"
      ]
    },
    {
      "cell_type": "markdown",
      "metadata": {
        "id": "n4u20Vr4zOT0"
      },
      "source": [
        "### Contenidos\n"
      ]
    },
    {
      "cell_type": "markdown",
      "metadata": {
        "id": "X2hDy3sbzOT0"
      },
      "source": [
        "* [Introducción](#Introducción)\n",
        "\n",
        "* [Acceso](#Acceso)\n",
        "\n",
        "* [Modificar elementos](#Modificar-elementos)\n",
        "\n",
        "* [Añadir elementos](#Añadir-elementos)\n",
        "\n",
        "* [Eliminar elementos](#Eliminar-elementos)\n",
        "\n",
        "* [Métodos: ordenar, tamaño, invertir orden, ocurrencia](#Métodos:-ordenar,-tamaño,-invertir-orden,-ocurrencia)\n",
        "\n"
      ]
    },
    {
      "cell_type": "markdown",
      "metadata": {
        "id": "BtxlRbTtzOT1"
      },
      "source": [
        "### Introducción\n",
        "[al indice](#Contenidos)  \n",
        "\n",
        "Ya conocemos bastante las listas. Veamos un repaso de lo que podemos hacer con ellas, así como algunas funcionalidades nuevas"
      ]
    },
    {
      "cell_type": "code",
      "execution_count": 2,
      "metadata": {
        "id": "2vtsWuDZzOT2"
      },
      "outputs": [],
      "source": [
        "# Listas de números, strings, booleanos, con elementos repetidos, listas anidadas...\n",
        "nums = [6, 2, 8, 3, 4, 5, 5]\n",
        "months = [\"Enero\", \"Febrero\", \"Marzo\"]\n",
        "mix = [5, 7, \"Abril\", True, None, [\"Blanco\", \"Negro\"]]"
      ]
    },
    {
      "cell_type": "markdown",
      "metadata": {
        "id": "GAzCSIOJzOT3"
      },
      "source": [
        "### Acceso\n",
        "[al indice](#Contenidos)  \n",
        "\n",
        "Entre corchetes introducimos el indice del elemento al que queremos acceder"
      ]
    },
    {
      "cell_type": "code",
      "execution_count": 8,
      "metadata": {
        "id": "uLVDzreRzOT4"
      },
      "outputs": [
        {
          "name": "stdout",
          "output_type": "stream",
          "text": [
            "Enero\n",
            "Febrero\n",
            "Marzo\n"
          ]
        }
      ],
      "source": [
        "months = [\"Enero\", \"Febrero\", \"Marzo\"]\n",
        "print(months[0])\n",
        "print(months[1])\n",
        "print(months[2])"
      ]
    },
    {
      "cell_type": "markdown",
      "metadata": {
        "id": "0OV5x_pTzOT4"
      },
      "source": [
        "Si planteamos el problema al revés. Tenemos los valores de la lista y lo que queremos es obtener el índice de esos valores dentro de la lista"
      ]
    },
    {
      "cell_type": "code",
      "execution_count": 10,
      "metadata": {
        "id": "h44JTyb6zOT5"
      },
      "outputs": [
        {
          "data": {
            "text/plain": [
              "0"
            ]
          },
          "execution_count": 10,
          "metadata": {},
          "output_type": "execute_result"
        }
      ],
      "source": [
        "months = [\"Enero\", \"Febrero\", \"Marzo\", \"Marzo\"]\n",
        "months.index(\"Enero\")"
      ]
    },
    {
      "cell_type": "markdown",
      "metadata": {
        "id": "Or286OzgzOT5"
      },
      "source": [
        "**Slicing**: usamos slicing para acceder a varios elementos seguidos de la lista"
      ]
    },
    {
      "cell_type": "code",
      "execution_count": 19,
      "metadata": {
        "id": "1m8tOckszOT5"
      },
      "outputs": [
        {
          "name": "stdout",
          "output_type": "stream",
          "text": [
            "[34, 15]\n",
            "[22, 18, 26]\n",
            "[22, 15, 18]\n"
          ]
        }
      ],
      "source": [
        "degrees = [22, 34, 15, 26, 18, 22]\n",
        "print(degrees[1:3]) # obtengo desde el index 1 hasta el 3 (éste es el límite, no se tiene en cuenta)\n",
        "print(degrees[-1:-4:-1]) # desde el último elemento hasta el -4 (éste es el límite, no se tiene en cuenta), cuenta uno a uno hacia atrás (-1)\n",
        "print(degrees[::2]) # defino los steps"
      ]
    },
    {
      "cell_type": "markdown",
      "metadata": {
        "id": "fBsrJOCZzOT5"
      },
      "source": [
        "### Modificar elementos\n",
        "[al indice](#Contenidos)  \n",
        "\n",
        "Las listas son mutables, por lo que podremos modificarlas"
      ]
    },
    {
      "cell_type": "code",
      "execution_count": 27,
      "metadata": {
        "id": "b7btmnw6zOT5"
      },
      "outputs": [
        {
          "name": "stdout",
          "output_type": "stream",
          "text": [
            "['January', 'Febrero', 'Marzo']\n"
          ]
        }
      ],
      "source": [
        "# Accediendo mediante el indice\n",
        "months = [\"Enero\", \"Febrero\", \"Marzo\"]\n",
        "months[0] = \"January\"\n",
        "print(months)"
      ]
    },
    {
      "cell_type": "markdown",
      "metadata": {
        "id": "cODEBby0zOT6"
      },
      "source": [
        "### Añadir elementos\n",
        "[al indice](#Contenidos)  \n",
        "\n",
        "Se añade al final de la lista si usamos `append`, o si queremos en un lugar concreto, mediante `insert`"
      ]
    },
    {
      "cell_type": "code",
      "execution_count": 34,
      "metadata": {
        "id": "Hwl0laEOzOT6"
      },
      "outputs": [
        {
          "name": "stdout",
          "output_type": "stream",
          "text": [
            "['honda', 'yamaha', 'ducati', 'suzuki', 'vespa', 'kawasaki']\n"
          ]
        }
      ],
      "source": [
        "# Con append lo añadimos al final de la lista\n",
        "motorcycles = ['honda', 'yamaha', 'suzuki']\n",
        "motorcycles.append('kawasaki')\n",
        "motorcycles.insert(2,'ducati')\n",
        "motorcycles.insert(-1,'vespa')\n",
        "print(motorcycles)"
      ]
    },
    {
      "cell_type": "code",
      "execution_count": 40,
      "metadata": {
        "id": "n7FAOqKrzOT6"
      },
      "outputs": [
        {
          "name": "stdout",
          "output_type": "stream",
          "text": [
            "1. <class 'list'> - Lista: []\n",
            "2. <class 'list'> - Lista: []\n"
          ]
        }
      ],
      "source": [
        "# Es muy comun crear una lista vacia, y a lo largo del programa, ir añadiendo elementos\n",
        "nueva_lista = []\n",
        "print(\"1.\",type(nueva_lista), \"- Lista:\", nueva_lista)\n",
        "\n",
        "nueva_lista_2 = list()\n",
        "type(nueva_lista_2)\n",
        "print(\"2.\",type(nueva_lista_2), \"- Lista:\", nueva_lista_2)"
      ]
    },
    {
      "cell_type": "markdown",
      "metadata": {
        "id": "amqPCvW6zOT6"
      },
      "source": [
        "### Eliminar elementos\n",
        "[al indice](#Contenidos)  \n",
        "\n",
        "Para eliminar elementos se usar `remove`. Si no existe, da error, así que cuidado con esta sentencia.\n",
        "\n",
        "En ocasiones resulta útil quedarnos con el elemento eliminado. Para ello usamos `pop()`, que elimina el elemento que le indiquemos, y además devuelve ese elemento por lo que podremos guardarlo en una variable para usarlo después."
      ]
    },
    {
      "cell_type": "code",
      "execution_count": 54,
      "metadata": {
        "id": "RrLEVPRFzOT7"
      },
      "outputs": [
        {
          "name": "stdout",
          "output_type": "stream",
          "text": [
            "CON REMOVE:\n",
            "['Seat', 'BMW', 'VW']\n",
            "['Seat', 'BMW']\n",
            "CON POP:\n",
            "['Seat', 'BMW', 'VW']\n",
            "['Seat', 'BMW']\n"
          ]
        }
      ],
      "source": [
        "cars = [\"VW\", \"Seat\", \"BMW\", \"VW\"]\n",
        "\n",
        "print(\"CON REMOVE:\")\n",
        "cars.remove(\"VW\")\n",
        "print(cars)\n",
        "cars.remove(cars[-1])\n",
        "print(cars)\n",
        "\n",
        "cars = [\"VW\", \"Seat\", \"BMW\", \"VW\"]\n",
        "\n",
        "print(\"CON POP:\")\n",
        "# cars.pop(\"VW\") # daría error\n",
        "cars.pop(0)\n",
        "print(cars)\n",
        "cars.pop(-1)\n",
        "print(cars)"
      ]
    },
    {
      "cell_type": "code",
      "execution_count": 56,
      "metadata": {
        "id": "YyMn5muAzOT7"
      },
      "outputs": [
        {
          "name": "stdout",
          "output_type": "stream",
          "text": [
            "elemento elimlinado: VW\n",
            "['Seat', 'BMW', 'VW']\n"
          ]
        }
      ],
      "source": [
        "# Eliminar elementos por indice, y guarda ese valor en una variable\n",
        "cars = [\"VW\", \"Seat\", \"BMW\", \"VW\"]\n",
        "eliminado = cars.pop(0)\n",
        "print(\"elemento elimlinado:\",eliminado)\n",
        "print(cars)"
      ]
    },
    {
      "cell_type": "markdown",
      "metadata": {
        "id": "4EwTuQKTzOT7"
      },
      "source": [
        "<table align=\"left\">\n",
        " <tr>\n",
        "     <td style=\"text-align:left\">\n",
        "         <h3>ERRORES remove</h3>\n",
        "         \n",
        " </td></tr>\n",
        "</table>"
      ]
    },
    {
      "cell_type": "code",
      "execution_count": null,
      "metadata": {
        "id": "OhWH60h_zOT7"
      },
      "outputs": [],
      "source": [
        "cars = [\"VW\", \"Seat\", \"BMW\", \"VW\"]"
      ]
    },
    {
      "cell_type": "markdown",
      "metadata": {
        "id": "7ioY_0HzzOT7"
      },
      "source": [
        "### Métodos: ordenar, tamaño, invertir orden, ocurrencia\n",
        "[al indice](#Contenidos)  \n",
        "\n",
        "En este apartado veremos los métodos más útiles, pero podrás consultar el resto en [este enlace](https://www.w3schools.com/python/python_ref_list.asp)"
      ]
    },
    {
      "cell_type": "code",
      "execution_count": null,
      "metadata": {
        "id": "sRz1xc0kzOT8"
      },
      "outputs": [],
      "source": [
        "degrees = [22, 34, 15, 26, 18, 22]"
      ]
    },
    {
      "cell_type": "markdown",
      "metadata": {
        "id": "4LllYkvpzOT8"
      },
      "source": [
        "<table align=\"left\">\n",
        " <tr>\n",
        "     <td style=\"text-align:left\">\n",
        "         <h3>ERRORES indice</h3>\n",
        "         \n",
        " </td></tr>\n",
        "</table>"
      ]
    },
    {
      "cell_type": "markdown",
      "metadata": {
        "id": "PtXAT0TjzOT8"
      },
      "source": [
        "Mucho cuidado cuando accedemos a los elementos de la lista. Es un error muy habitual acceder a un índice que no existe en la lista.\n",
        "\n",
        "Si estamos accediendo al ultimo elemento, en vez de poner el numero de su indice, poner mejor `-1`, y asi evitamos errores"
      ]
    },
    {
      "cell_type": "code",
      "execution_count": null,
      "metadata": {
        "id": "kvXEjHhwzOT8"
      },
      "outputs": [],
      "source": [
        "degrees = [22, 34, 15, 26, 18, 22]\n"
      ]
    },
    {
      "cell_type": "markdown",
      "metadata": {
        "id": "_2s7whKJzOT8"
      },
      "source": [
        "Si tenemos este tipo de errores y no sabemos resolverlos, lo mejor es imprimir la longitud de la lista, y todos los elementos."
      ]
    },
    {
      "cell_type": "code",
      "execution_count": null,
      "metadata": {
        "id": "Xq3SxPP3zOT8"
      },
      "outputs": [],
      "source": []
    }
  ],
  "metadata": {
    "colab": {
      "provenance": []
    },
    "kernelspec": {
      "display_name": "Python 3",
      "language": "python",
      "name": "python3"
    },
    "language_info": {
      "codemirror_mode": {
        "name": "ipython",
        "version": 3
      },
      "file_extension": ".py",
      "mimetype": "text/x-python",
      "name": "python",
      "nbconvert_exporter": "python",
      "pygments_lexer": "ipython3",
      "version": "3.11.0"
    }
  },
  "nbformat": 4,
  "nbformat_minor": 0
}
