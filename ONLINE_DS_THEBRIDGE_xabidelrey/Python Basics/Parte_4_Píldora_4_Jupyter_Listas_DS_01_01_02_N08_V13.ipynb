{
  "cells": [
    {
      "cell_type": "markdown",
      "metadata": {
        "id": "W4Bvl1MzM-Z0"
      },
      "source": [
        "<img src = \"./img/TheBridge_logo_RGB_color.jpg\" width = 500><img src = \"./img/python.jpg\" width = 500>"
      ]
    },
    {
      "cell_type": "markdown",
      "metadata": {
        "id": "QpdMTIVYM-Z3"
      },
      "source": [
        "# Python Basics I"
      ]
    },
    {
      "cell_type": "markdown",
      "metadata": {
        "id": "QChthpgBM-Z4"
      },
      "source": [
        "## Contenidos"
      ]
    },
    {
      "cell_type": "markdown",
      "metadata": {
        "id": "icSs1sIwM-Z5"
      },
      "source": [
        "* [Listas\n",
        "](#Listas\n",
        ")\n"
      ]
    },
    {
      "cell_type": "markdown",
      "metadata": {
        "id": "v3Owm18wM-Z6"
      },
      "source": [
        "## Listas\n",
        "[al indice](#Contenidos)  \n",
        "Se trata de otro de los tipos de datos de Python más usados. Dentro de las colecciones, que veremos más adelante, la lista es la colección que normalmente se le da más uso. **Nos permiten almacenar conjuntos de variables u objetos**, y son elementos de lo más versátiles puesto que podemos almacenar objetos de distintos tipos, modificarlos, eliminarlos, meter listas dentro de listas... Sus dos caractrísticas principales son:\n",
        "* **Mutables**: una vez se ha creado la lista, se puede modificar\n",
        "* **Ordenada**: Los elementos tienen un cierto orden, lo que nos permite acceder al elemento que queramos teniendo en cuenta tal orden\n",
        "\n",
        "En cuanto a su sintaxis, cuando declaremos la lista simplemente hay que separar cada elemento con comas, y rodearlo todo con corchetes."
      ]
    },
    {
      "cell_type": "code",
      "execution_count": 1,
      "metadata": {
        "id": "dpW9XsyFM-Z8"
      },
      "outputs": [
        {
          "name": "stdout",
          "output_type": "stream",
          "text": [
            "[1, 3, 5, 6]\n",
            "<class 'list'>\n"
          ]
        }
      ],
      "source": [
        "# Lista de números\n",
        "numeros = [1, 3, 5, 6]\n",
        "print(numeros)\n",
        "print(type(numeros))\n"
      ]
    },
    {
      "cell_type": "code",
      "execution_count": null,
      "metadata": {
        "id": "iINWJqj-M-Z8"
      },
      "outputs": [
        {
          "name": "stdout",
          "output_type": "stream",
          "text": [
            "['Esto', 'es', 'una', 'lista']\n",
            "[True, False, True, True, False]\n"
          ]
        }
      ],
      "source": [
        "# Lista de Strings\n",
        "strings = [\"Esto\", \"es\", \"una\", \"lista\"]\n",
        "print(strings)\n",
        "\n",
        "# Lista de Booleanos\n",
        "booleanos = [True, False, not False, True or False, False and False]\n",
        "print(booleanos)"
      ]
    },
    {
      "cell_type": "code",
      "execution_count": 7,
      "metadata": {},
      "outputs": [
        {
          "name": "stdout",
          "output_type": "stream",
          "text": [
            "['Esto es', 12, -34.5, True, False, 'lista']\n",
            "<class 'list'>\n",
            "['Gola', '12', 23, [23, True, False]]\n"
          ]
        }
      ],
      "source": [
        "# Lista de tipos mezclados\n",
        "mix = [\"Esto es\", 12, -34.5, True, False, \"lista\"]\n",
        "print(mix)\n",
        "print(type(mix))\n",
        "\n",
        "# Listas dentro de listas\n",
        "listas = [\"Gola\", \"12\", 23, [23, True, False]]\n",
        "print(listas)"
      ]
    },
    {
      "cell_type": "code",
      "execution_count": 9,
      "metadata": {},
      "outputs": [
        {
          "data": {
            "text/plain": [
              "4"
            ]
          },
          "execution_count": 9,
          "metadata": {},
          "output_type": "execute_result"
        }
      ],
      "source": [
        "len(listas)"
      ]
    },
    {
      "cell_type": "code",
      "execution_count": 10,
      "metadata": {},
      "outputs": [
        {
          "data": {
            "text/plain": [
              "6"
            ]
          },
          "execution_count": 10,
          "metadata": {},
          "output_type": "execute_result"
        }
      ],
      "source": [
        "len(mix)"
      ]
    },
    {
      "cell_type": "code",
      "execution_count": 12,
      "metadata": {},
      "outputs": [
        {
          "name": "stdout",
          "output_type": "stream",
          "text": [
            "['Esto es', 12, -34.5, True, False, 'lista', 'Gola', '12', 23, [23, True, False]]\n",
            "<class 'list'>\n"
          ]
        }
      ],
      "source": [
        "concatenacion = mix + listas\n",
        "print(concatenacion)\n",
        "print(type(concatenacion))\n"
      ]
    },
    {
      "cell_type": "code",
      "execution_count": 13,
      "metadata": {},
      "outputs": [
        {
          "name": "stdout",
          "output_type": "stream",
          "text": [
            "['Gola', '12', 23, [23, True, False], 'Esto es', 12, -34.5, True, False, 'lista']\n"
          ]
        }
      ],
      "source": [
        "concatenacion2 = listas + mix\n",
        "print(concatenacion2)\n"
      ]
    },
    {
      "cell_type": "markdown",
      "metadata": {
        "id": "f-SLhz6eM-Z9"
      },
      "source": [
        "**NOTA**: ¿Ves por qué los decimales en Python siempre van con puntos y no con comas? Con las colecciones el intérprete de Python se volvería loco.\n",
        "\n",
        "Podemos ver tambien el tipo de la lista"
      ]
    },
    {
      "cell_type": "code",
      "execution_count": 14,
      "metadata": {
        "id": "Mc0zF0BxM-Z-"
      },
      "outputs": [
        {
          "data": {
            "text/plain": [
              "list"
            ]
          },
          "execution_count": 14,
          "metadata": {},
          "output_type": "execute_result"
        }
      ],
      "source": [
        "type(mix)"
      ]
    },
    {
      "cell_type": "markdown",
      "metadata": {
        "id": "CD3ln-SKM-Z-"
      },
      "source": [
        "Calcular la longitud de la misma mediante el método *built-in* ya visto: `len()`"
      ]
    },
    {
      "cell_type": "code",
      "execution_count": 15,
      "metadata": {
        "id": "KCmG97YnM-Z_"
      },
      "outputs": [
        {
          "data": {
            "text/plain": [
              "6"
            ]
          },
          "execution_count": 15,
          "metadata": {},
          "output_type": "execute_result"
        }
      ],
      "source": [
        "len(mix)"
      ]
    },
    {
      "cell_type": "markdown",
      "metadata": {
        "id": "t34xoXdZM-Z_"
      },
      "source": [
        "Accedemos a los elemenos de la lista mediante corchetes `[]`\n",
        "\n",
        "**Importante**. El primer elemento es el 0"
      ]
    },
    {
      "cell_type": "code",
      "execution_count": 22,
      "metadata": {
        "id": "WMvnoODFM-Z_"
      },
      "outputs": [
        {
          "name": "stdout",
          "output_type": "stream",
          "text": [
            "Esto\n",
            "Nuevo elemento\n",
            "Patata\n",
            "3\n"
          ]
        },
        {
          "ename": "IndexError",
          "evalue": "list index out of range",
          "output_type": "error",
          "traceback": [
            "\u001b[31m---------------------------------------------------------------------------\u001b[39m",
            "\u001b[31mIndexError\u001b[39m                                Traceback (most recent call last)",
            "\u001b[36mCell\u001b[39m\u001b[36m \u001b[39m\u001b[32mIn[22]\u001b[39m\u001b[32m, line 6\u001b[39m\n\u001b[32m      4\u001b[39m \u001b[38;5;28mprint\u001b[39m(lista_ejemplo[-\u001b[32m2\u001b[39m])\n\u001b[32m      5\u001b[39m \u001b[38;5;28mprint\u001b[39m(lista_ejemplo[\u001b[32m2\u001b[39m])\n\u001b[32m----> \u001b[39m\u001b[32m6\u001b[39m \u001b[38;5;28mprint\u001b[39m(\u001b[43mlista_ejemplo\u001b[49m\u001b[43m[\u001b[49m\u001b[32;43m123\u001b[39;49m\u001b[43m]\u001b[49m)\n",
            "\u001b[31mIndexError\u001b[39m: list index out of range"
          ]
        }
      ],
      "source": [
        "lista_ejemplo = [\"Esto\", 2, 3, \"Patata\", \"Nuevo elemento\"]\n",
        "print(lista_ejemplo[0])\n",
        "print(lista_ejemplo[-1])\n",
        "print(lista_ejemplo[-2])\n",
        "print(lista_ejemplo[2])\n",
        "print(lista_ejemplo[123])"
      ]
    },
    {
      "cell_type": "markdown",
      "metadata": {
        "id": "c8ew--wbM-aA"
      },
      "source": [
        "### Metodos en Listas\n",
        "Para el tipo de objeto lista, también hay una serie de métodos catacterísticos que nos permiten operar con ellas: añadir valores, quitarlos, indexado, filtrado, etc... En [este enlace](https://www.w3schools.com/python/python_ref_list.asp) puedes encontrar todos los métodos que podrás usar con listas."
      ]
    },
    {
      "cell_type": "code",
      "execution_count": 39,
      "metadata": {
        "id": "2nltoHEEM-aA"
      },
      "outputs": [
        {
          "name": "stdout",
          "output_type": "stream",
          "text": [
            "['Física', 'Química', 'Matemáticas', 'Literatura', 'Filosofía']\n",
            "['Física', 'Educación Física', 'Química', 'Matemáticas', 'Literatura', 'Filosofía']\n",
            "['Física', 'Química', 'Matemáticas', 'Literatura', 'Filosofía']\n",
            "['Física', 'Química', 'Matemáticas', 'Literatura']\n",
            "['Física', 'Literatura', 'Matemáticas', 'Química']\n"
          ]
        }
      ],
      "source": [
        "asignaturas = [\"Física\", \"Química\", \"Matemáticas\", \"Literatura\"]\n",
        "\n",
        "# Añadir un elemento a una lista (al final de la lista)\n",
        "asignaturas.append(\"Filosofía\")\n",
        "print(asignaturas)\n",
        "\n",
        "# Añadir elementos en una posición determinada\n",
        "asignaturas.insert(1, \"Educación Física\")\n",
        "print(asignaturas)\n",
        "\n",
        "# Quitar elementos\n",
        "# asignaturas.clear()\n",
        "# print(asignaturas)\n",
        "\n",
        "# Quitar un elemento a partir de su índice o posición\n",
        "asignaturas.pop(1)\n",
        "print(asignaturas)\n",
        "\n",
        "# Quitar un elementos por su 'valor'\n",
        "asignaturas.remove(\"Filosofía\")\n",
        "print(asignaturas)\n",
        "\n",
        "# asignaturas.remove(\"Cine\")\n",
        "# asignaturas.pop(123)\n",
        "\n",
        "# Ordenar la lista\n",
        "asignaturas.sort()\n",
        "print(asignaturas)"
      ]
    },
    {
      "cell_type": "code",
      "execution_count": null,
      "metadata": {
        "id": "f4FOCH_eM-aA"
      },
      "outputs": [],
      "source": []
    },
    {
      "cell_type": "code",
      "execution_count": null,
      "metadata": {
        "id": "mhvM0FnGM-aA"
      },
      "outputs": [],
      "source": []
    }
  ],
  "metadata": {
    "colab": {
      "provenance": []
    },
    "kernelspec": {
      "display_name": "Python 3",
      "language": "python",
      "name": "python3"
    },
    "language_info": {
      "codemirror_mode": {
        "name": "ipython",
        "version": 3
      },
      "file_extension": ".py",
      "mimetype": "text/x-python",
      "name": "python",
      "nbconvert_exporter": "python",
      "pygments_lexer": "ipython3",
      "version": "3.11.0"
    }
  },
  "nbformat": 4,
  "nbformat_minor": 0
}
