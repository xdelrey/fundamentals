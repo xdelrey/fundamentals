{
  "cells": [
    {
      "cell_type": "markdown",
      "metadata": {
        "id": "ZAG_i2mL6nRY"
      },
      "source": [
        "![TheBridge_Python_v0.png](attachment:TheBridge_Python_v0.png)"
      ]
    },
    {
      "cell_type": "markdown",
      "metadata": {
        "id": "epeJSyU_6nRc"
      },
      "source": [
        "##  Argumentos clave-valor"
      ]
    },
    {
      "cell_type": "markdown",
      "metadata": {
        "id": "giRRZmns6nRc"
      },
      "source": [
        "### Contenidos"
      ]
    },
    {
      "cell_type": "markdown",
      "metadata": {
        "id": "ZMhI-6D_6nRd"
      },
      "source": [
        "* [Combinar `*args` con `**kwargs`](#Combinar-`*args`-con-`**kwargs`)\n",
        "* [Argumentos keyword](#Argumentos-keyword)\n"
      ]
    },
    {
      "cell_type": "markdown",
      "metadata": {
        "id": "yF2C8Nz76nRd"
      },
      "source": [
        "\n",
        "Para terminar con las diferentes posibilidades que ofrecen los argumentos de las funciones, vamos a tratar los argumentos clave-valor.  \n",
        "\n",
        "Es decir, tenemos también la opción de introducir un diccionario como argumentos, de esta forma, aunque el numero de argumentos sea variable, tendremos un inidicador, la clave, y el valor de cada clave.\n",
        "\n",
        "Se implementa con `**`"
      ]
    },
    {
      "cell_type": "code",
      "execution_count": 2,
      "metadata": {
        "id": "UYggjZ7A6nRd"
      },
      "outputs": [
        {
          "name": "stdout",
          "output_type": "stream",
          "text": [
            "<class 'dict'>\n",
            "{'modelo': 's20', 'marca': 'Samsung', 'camara': '24MPX'}\n"
          ]
        }
      ],
      "source": [
        "def insertar_movil_bd(**clave_valor):\n",
        "    print(type(clave_valor))\n",
        "    print(clave_valor)\n",
        "\n",
        "insertar_movil_bd(modelo = \"s20\", marca = \"Samsung\", camara = \"24MPX\")"
      ]
    },
    {
      "cell_type": "code",
      "execution_count": 5,
      "metadata": {},
      "outputs": [
        {
          "name": "stdout",
          "output_type": "stream",
          "text": [
            "modelo : s20\n",
            "marca : Samsung\n",
            "camara : 24MPX\n",
            "flip : True\n"
          ]
        }
      ],
      "source": [
        "def insertar_movil_bd(**kwargs):\n",
        "    for clave, valor in kwargs.items():\n",
        "        # insertar(clave, valor)\n",
        "        print(clave, \":\", valor)\n",
        "\n",
        "insertar_movil_bd(modelo = \"s20\", marca = \"Samsung\", camara = \"24MPX\", flip = True) "
      ]
    },
    {
      "cell_type": "markdown",
      "metadata": {
        "id": "pl7edd4y6nRe"
      },
      "source": [
        "### Combinar `*args` con `**kwargs`\n",
        "[al indice](#Contenidos)  \n",
        "No hay ningun problema en tener un numero variable de argumentos y también argumentos clave-valor, todo ello en la misma función."
      ]
    },
    {
      "cell_type": "code",
      "execution_count": 10,
      "metadata": {
        "id": "PsEeIF616nRe"
      },
      "outputs": [
        {
          "name": "stdout",
          "output_type": "stream",
          "text": [
            "<class 'tuple'>\n",
            "Es muy bueno\n",
            "no dura suficiente la batería\n",
            "<class 'dict'>\n",
            "marca Samsung\n",
            "modelo s20\n",
            "precio 1100\n"
          ]
        }
      ],
      "source": [
        "def insertar_movil(*args, **kwargs):\n",
        "    print(type(args))\n",
        "    for i in args:\n",
        "        print(i)\n",
        "\n",
        "    print(type(kwargs))\n",
        "    for clave,valor in kwargs.items():\n",
        "        print(clave,valor)\n",
        "\n",
        "insertar_movil(\"Es muy bueno\", \"no dura suficiente la batería\",\\\n",
        "               marca = \"Samsung\", modelo = \"s20\", precio = 1100 )"
      ]
    },
    {
      "cell_type": "code",
      "execution_count": 11,
      "metadata": {},
      "outputs": [
        {
          "ename": "SyntaxError",
          "evalue": "arguments cannot follow var-keyword argument (3499624871.py, line 1)",
          "output_type": "error",
          "traceback": [
            "  \u001b[36mCell\u001b[39m\u001b[36m \u001b[39m\u001b[32mIn[11]\u001b[39m\u001b[32m, line 1\u001b[39m\n\u001b[31m    \u001b[39m\u001b[31mdef test (**kwargs, * args):\u001b[39m\n                        ^\n\u001b[31mSyntaxError\u001b[39m\u001b[31m:\u001b[39m arguments cannot follow var-keyword argument\n"
          ]
        }
      ],
      "source": [
        "def test (**kwargs, * args):\n",
        "    print(\"test\")"
      ]
    },
    {
      "cell_type": "markdown",
      "metadata": {
        "id": "GuhS5yny6nRf"
      },
      "source": [
        "### Argumentos keyword\n",
        "[al indice](#Contenidos)  \n",
        "Existe otro tipo de argumentos que son los *keyword*. Se caracterizan porque llevan un valor por defecto, y por tanto, si no usamos dicho argumento en la llamada, dentro de la función tomará el valor que hayamos dejado por defecto.\n",
        "\n",
        "Ten en cuenta que estos argumentos se colocan **al final**"
      ]
    },
    {
      "cell_type": "code",
      "execution_count": 14,
      "metadata": {
        "id": "AlW_fIDJ6nRf"
      },
      "outputs": [
        {
          "data": {
            "text/plain": [
              "12.37"
            ]
          },
          "execution_count": 14,
          "metadata": {},
          "output_type": "execute_result"
        }
      ],
      "source": [
        "round(12.3654, 2)"
      ]
    },
    {
      "cell_type": "code",
      "execution_count": 15,
      "metadata": {},
      "outputs": [
        {
          "data": {
            "text/plain": [
              "[54, 24, 12, 12, 3]"
            ]
          },
          "execution_count": 15,
          "metadata": {},
          "output_type": "execute_result"
        }
      ],
      "source": [
        "sorted([12,3,24,54,12], reverse=True)"
      ]
    },
    {
      "cell_type": "code",
      "execution_count": 18,
      "metadata": {},
      "outputs": [
        {
          "name": "stdout",
          "output_type": "stream",
          "text": [
            "Su pedido de Televisión LG se entregará el  12/12/2023\n",
            "Póngase en contacto con Att. al Cliente\n",
            "Su pedido de iMac 27\" se entregará el  10/11/2023\n"
          ]
        }
      ],
      "source": [
        "def pedido_online(pedido, fecha, incidencia=False):\n",
        "    if incidencia == True:\n",
        "        print(\"Póngase en contacto con Att. al Cliente\")\n",
        "    print(\"Su pedido de\", pedido, \"se entregará el \", fecha)\n",
        "\n",
        "pedido_online(\"Televisión LG\", \"12/12/2023\")\n",
        "pedido_online('iMac 27\"', \"10/11/2023\", incidencia = True)"
      ]
    },
    {
      "cell_type": "code",
      "execution_count": 19,
      "metadata": {},
      "outputs": [
        {
          "ename": "SyntaxError",
          "evalue": "non-default argument follows default argument (4005871571.py, line 1)",
          "output_type": "error",
          "traceback": [
            "  \u001b[36mCell\u001b[39m\u001b[36m \u001b[39m\u001b[32mIn[19]\u001b[39m\u001b[32m, line 1\u001b[39m\n\u001b[31m    \u001b[39m\u001b[31mdef pedido_online(pedido, indicencia = False, fecha):\u001b[39m\n                                                  ^\n\u001b[31mSyntaxError\u001b[39m\u001b[31m:\u001b[39m non-default argument follows default argument\n"
          ]
        }
      ],
      "source": [
        "def pedido_online(pedido, indicencia = False, fecha):\n",
        "    if incidencia == True:\n",
        "        print(\"Póngase en contacto con Att al Cliente\")\n",
        "    print(\"Su pedido de\", pedido, \"se entregará el\", fecha)"
      ]
    },
    {
      "cell_type": "markdown",
      "metadata": {
        "id": "LrsuSJL76nRf"
      },
      "source": [
        "<table align=\"left\">\n",
        " <tr>\n",
        "     <td style=\"text-align:left\">\n",
        "         <h3>ERRORES con argumentos keyword</h3>\n",
        "         \n",
        " </td></tr>\n",
        "</table>"
      ]
    },
    {
      "cell_type": "code",
      "execution_count": null,
      "metadata": {
        "id": "bp79rn2i6nRf"
      },
      "outputs": [],
      "source": []
    }
  ],
  "metadata": {
    "colab": {
      "provenance": []
    },
    "kernelspec": {
      "display_name": "Python 3",
      "language": "python",
      "name": "python3"
    },
    "language_info": {
      "codemirror_mode": {
        "name": "ipython",
        "version": 3
      },
      "file_extension": ".py",
      "mimetype": "text/x-python",
      "name": "python",
      "nbconvert_exporter": "python",
      "pygments_lexer": "ipython3",
      "version": "3.11.0"
    }
  },
  "nbformat": 4,
  "nbformat_minor": 0
}
