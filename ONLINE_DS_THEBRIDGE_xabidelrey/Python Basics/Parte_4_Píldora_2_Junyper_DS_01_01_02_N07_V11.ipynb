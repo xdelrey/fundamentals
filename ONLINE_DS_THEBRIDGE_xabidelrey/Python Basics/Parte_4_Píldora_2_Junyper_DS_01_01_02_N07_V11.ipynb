{
  "cells": [
    {
      "cell_type": "markdown",
      "metadata": {
        "id": "X-DNC9uJXx21"
      },
      "source": [
        "<img src = \"./img/TheBridge_logo_RGB_color.jpg\" width = 500><img src = \"./img/python.jpg\" width = 500>"
      ]
    },
    {
      "cell_type": "markdown",
      "metadata": {
        "id": "s9YILbMrXx24"
      },
      "source": [
        "# Python Basics I"
      ]
    },
    {
      "cell_type": "markdown",
      "metadata": {
        "id": "1MzQ4nIvXx25"
      },
      "source": [
        "## Contenidos"
      ]
    },
    {
      "cell_type": "markdown",
      "metadata": {
        "id": "2GoQJx2zXx25"
      },
      "source": [
        "* [Funciones (I): *Built in*\n",
        "](#Funciones-(I):-*Built-in*\n",
        ")\n",
        "* [Métodos\n",
        "](#Métodos\n",
        ")\n"
      ]
    },
    {
      "cell_type": "markdown",
      "metadata": {
        "id": "g7CkZgMJXx26"
      },
      "source": [
        "## Funciones (I): *Built in*\n",
        "[al indice](#Contenidos)  \n",
        "\n",
        "Hay una serie de funciones internas, que vienen en el intérprete de Python. Algunas de las más comunes son:\n",
        "* **Tipos**: `bool()`, `str()`, `int()`, `float()`\n",
        "* **Min/Max**: `min()`, `max()`\n",
        "* **print()**\n",
        "* **type()**\n",
        "* **range()**\n",
        "* **zip()**\n",
        "* **len()**\n",
        "* ...\n",
        "\n",
        "La sintaxis de la función es:\n",
        "\n",
        "```Python\n",
        "nombre_funcion(argumentos)\n",
        "```\n",
        "\n",
        "Algunas ya las hemos visto. Sin embargo, hay unas cuantas que las iremos descubriendo a lo largo de estos notebooks. Para más detalle, tienes [aquí](https://docs.python.org/3/library/functions.html) todas las funciones *built-in* de la documentación.\n",
        "\n",
        "De momento, en lo que se refiere a funciones, vamos a ir trabajando con funciones ya hechas, pero más adelante crearemos nuestras propias funciones."
      ]
    },
    {
      "cell_type": "code",
      "execution_count": null,
      "metadata": {
        "id": "HKsNFl76Xx27"
      },
      "outputs": [
        {
          "name": "stdout",
          "output_type": "stream",
          "text": [
            "34\n",
            "25\n"
          ]
        }
      ],
      "source": [
        "# Len se usa para calcular la longitud de una variable. Ya veras que lo usaremos mucho en colecciones\n",
        "print (len(\"Esto es una cadena de longitud ...\"))\n",
        "\n",
        "\n",
        "# Funcion max. Tiene tantos argumentos como cantidad de números entre los cuales queramos sacar su valor máximo.\n",
        "print(max((1,12,13,25,6)))"
      ]
    },
    {
      "cell_type": "code",
      "execution_count": 10,
      "metadata": {},
      "outputs": [
        {
          "name": "stdout",
          "output_type": "stream",
          "text": [
            "la longitud de esta cadena es **test**30**test**y no es un float__esto va en otra línea\n"
          ]
        }
      ],
      "source": [
        "cadena = \"la longitud de esta cadena es \"\n",
        "print(cadena, len(cadena), \"y no es un float\", sep = \"**test**\", end = \"__\")\n",
        "print(\"esto va en otra línea\")"
      ]
    },
    {
      "cell_type": "code",
      "execution_count": null,
      "metadata": {},
      "outputs": [],
      "source": []
    },
    {
      "cell_type": "markdown",
      "metadata": {
        "id": "TUOq5sXJXx28"
      },
      "source": [
        "## Métodos\n",
        "[al indice](#Contenidos)  \n",
        "\n",
        "Se trata de una propiedad MUY utilizada en programación. Son funciones propias de las variables/objetos, y que nos permiten modificarlos u obtener más información de los mismos. Dependiendo del tipo de objeto, tendremos unos métodos disponibles diferentes.\n",
        "\n",
        "Para usar un método se usa la sintaxis `objeto.metodo()`. Ponemos un punto entre el nombre del objeto y el del metodo, y unos paréntesis por si el método necesita de algunos argumentos. **Aunque no necesite de argumentos, los paréntesis hay que ponerlos igualmente.**\n",
        "\n",
        "Veamos algunos ejemplos\n",
        "\n",
        "### String\n",
        "Una variable de tipo string, tiene una serie de métodos que permiten sacarle jugo a la cadena de texto. [Aquí](https://docs.python.org/2.5/lib/string-methods.html) tienes todos los métodos que podemos usar en cadenas de texto"
      ]
    },
    {
      "cell_type": "code",
      "execution_count": 2,
      "metadata": {
        "id": "IGS6Ec5yXx28"
      },
      "outputs": [
        {
          "name": "stdout",
          "output_type": "stream",
          "text": [
            "STRING EN MINÚSCULAS\n",
            "esto es un ejemplo diferente\n",
            "esto es un ejemplo diferente 2\n",
            "ctring en minúcculac\n",
            "string en mayúsculas\n",
            "tring en minúcula\n",
            "['Esto', 'se', 'va', 'a', 'convertir', 'en', 'una', 'lista', 'de', 'strings']\n",
            "10\n"
          ]
        }
      ],
      "source": [
        "string_ejemplo = \"string en minúsculas\"\n",
        "\n",
        "# método para poner un string todo en mayúsculas\n",
        "print(string_ejemplo.upper())\n",
        "\n",
        "# método para poner un string todo en minúsculas\n",
        "print(\"ESTO ES UN EJEMPLO DIFERENTE\".lower())\n",
        "\n",
        "string_ejemplo2 = \"ESTO ES UN EJEMPLO DIFERENTE 2\"\n",
        "print(string_ejemplo2.lower())\n",
        "\n",
        "# método para reemplazar algún carácter o varios\n",
        "print(string_ejemplo.replace(\"s\",\"c\"))\n",
        "print(string_ejemplo.replace(\"minúsculas\",\"mayúsculas\"))\n",
        "print(string_ejemplo.replace(\"s\",\"\"))\n",
        "\n",
        "# método para convertir un string en una lista\n",
        "print(\"Esto se va a convertir en una lista de strings\".split(\" \"))\n",
        "\n",
        "# método para conocer la posición dentro de un string\n",
        "print(string_ejemplo.index(\"m\"))\n"
      ]
    },
    {
      "cell_type": "code",
      "execution_count": null,
      "metadata": {
        "id": "FTE_M67tXx28"
      },
      "outputs": [],
      "source": []
    },
    {
      "cell_type": "markdown",
      "metadata": {
        "id": "nVlqQ5hyXx29"
      },
      "source": [
        "Como ves, se pueden hacer muchas cosas en los Strings gracias a sus métodos. Ya verás cómo la cosa se pone más interesante cuando los tipos de los datos sean todavía más complejos.\n",
        "\n",
        "Los métodos son una manera de abstraernos de cierta operativa. Convertir todos los caracteres de una cadena a minuscula, puede ser un poco tedioso si no existiese el método `lower()`. Tendríamos que acudir a bucles o programación funcional."
      ]
    },
    {
      "cell_type": "markdown",
      "metadata": {
        "id": "wK1ciYBLXx29"
      },
      "source": [
        "<table align=\"left\">\n",
        " <tr><td width=\"80\"><img src=\"./img/error.png\" style=\"width:auto;height:auto\"></td>\n",
        "     <td style=\"text-align:left\">\n",
        "         <h3>ERRORES en métodos</h3>\n",
        "         \n",
        " </td></tr>\n",
        "</table>"
      ]
    },
    {
      "cell_type": "code",
      "execution_count": 13,
      "metadata": {
        "id": "nvEv1If-Xx29",
        "scrolled": true
      },
      "outputs": [
        {
          "ename": "TypeError",
          "evalue": "replace expected at least 2 arguments, got 0",
          "output_type": "error",
          "traceback": [
            "\u001b[31m---------------------------------------------------------------------------\u001b[39m",
            "\u001b[31mTypeError\u001b[39m                                 Traceback (most recent call last)",
            "\u001b[36mCell\u001b[39m\u001b[36m \u001b[39m\u001b[32mIn[13]\u001b[39m\u001b[32m, line 2\u001b[39m\n\u001b[32m      1\u001b[39m \u001b[38;5;66;03m# Cuando un método necesita ciertos argumentos, y no se los proporcionamos\u001b[39;00m\n\u001b[32m----> \u001b[39m\u001b[32m2\u001b[39m \u001b[43mstring_ejemplo\u001b[49m\u001b[43m.\u001b[49m\u001b[43mreplace\u001b[49m\u001b[43m(\u001b[49m\u001b[43m)\u001b[49m\n",
            "\u001b[31mTypeError\u001b[39m: replace expected at least 2 arguments, got 0"
          ]
        }
      ],
      "source": [
        "# Cuando un método necesita ciertos argumentos, y no se los proporcionamos\n",
        "string_ejemplo.replace()"
      ]
    }
  ],
  "metadata": {
    "colab": {
      "provenance": []
    },
    "kernelspec": {
      "display_name": "Python 3",
      "language": "python",
      "name": "python3"
    },
    "language_info": {
      "codemirror_mode": {
        "name": "ipython",
        "version": 3
      },
      "file_extension": ".py",
      "mimetype": "text/x-python",
      "name": "python",
      "nbconvert_exporter": "python",
      "pygments_lexer": "ipython3",
      "version": "3.11.0"
    }
  },
  "nbformat": 4,
  "nbformat_minor": 0
}
