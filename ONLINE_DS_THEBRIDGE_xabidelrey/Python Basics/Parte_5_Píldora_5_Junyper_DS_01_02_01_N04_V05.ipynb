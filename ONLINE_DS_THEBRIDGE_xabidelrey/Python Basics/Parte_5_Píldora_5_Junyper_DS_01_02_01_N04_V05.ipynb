{
  "cells": [
    {
      "cell_type": "markdown",
      "metadata": {
        "id": "xVRd_BnivgJT"
      },
      "source": [
        "![TheBridge_Python_v0.png](attachment:TheBridge_Python_v0.png)"
      ]
    },
    {
      "cell_type": "markdown",
      "metadata": {
        "id": "N7avslyovgJX"
      },
      "source": [
        "## Colecciones Python: Sets\n"
      ]
    },
    {
      "cell_type": "markdown",
      "metadata": {
        "id": "76-RanvrvgJX"
      },
      "source": [
        "### Contenidos\n"
      ]
    },
    {
      "cell_type": "markdown",
      "metadata": {
        "id": "ZcV6PSe3vgJY"
      },
      "source": [
        "* [Introducción](#Introducción)\n",
        "\n"
      ]
    },
    {
      "cell_type": "markdown",
      "metadata": {
        "id": "mSIc7MgpvgJY"
      },
      "source": [
        "### Introducción\n",
        "[al indice](#Contenidos)  \n",
        "\n",
        "Otra colección *bulit-in* de Python, compuesta por un conjunto de *valores*. Muy parecidos a las listas. Tienen las siguientes características:\n",
        "* **Mutables**: podemos modificarlos una vez se hayan creado\n",
        "* **No ordenado**\n",
        "* **Elementos unicos**: se compone de un conjunto de valores únicas\n",
        "\n",
        "**¿Cuándo usar sets?** Cuando estemos buscando unicidad en nuestros datos y no nos importe el orden.\n",
        "\n",
        "Te dejo por aquí [la documentación](https://docs.python.org/2/library/sets.html) para realizar consultas sobre los sets\n",
        "\n",
        "Si sintaxis es:\n",
        ">```Python\n",
        "> mi_set = {elemento1, elemento2, elemento3}\n",
        ">```\n",
        "\n",
        "Tiene una sintaxis muy parecida a la de las listas, pero en este caso no se utilizan los `{}`."
      ]
    },
    {
      "cell_type": "code",
      "execution_count": 10,
      "metadata": {
        "id": "IA0V8DD3vgJZ"
      },
      "outputs": [
        {
          "name": "stdout",
          "output_type": "stream",
          "text": [
            "4\n",
            "{'rojo', 'azul', 'naranja', 'verde'}\n",
            "<class 'set'>\n"
          ]
        }
      ],
      "source": [
        "colores = {\"azul\", \"rojo\", \"verde\", \"naranja\", \"azul\", \"verde\"}\n",
        "print(len(colores))\n",
        "print(colores)\n",
        "print(type(colores))"
      ]
    },
    {
      "cell_type": "markdown",
      "metadata": {
        "id": "YbhEYGLmvgJZ"
      },
      "source": [
        "Los elementos del set son unicos, por lo que si en la declaración, o posteriormente añadiendo elementos hubiese algún duplicado, el set lo ignoraría. Es más, cuando aplicas el `len`, muestra la cantidad de valores únicos que tiene."
      ]
    },
    {
      "cell_type": "code",
      "execution_count": 16,
      "metadata": {
        "id": "OHpOMY6EvgJZ"
      },
      "outputs": [
        {
          "name": "stdout",
          "output_type": "stream",
          "text": [
            "{'celeste', 'verde', 'azul', 'rojo', 'burdeos', 'magenta'}\n",
            "{'celeste', 'naranja', 'verde', 'azul', 'rojo', 'burdeos', 'magenta'}\n",
            "{'celeste', 'verde', 'azul', 'rojo', 'burdeos', 'magenta'}\n",
            "celeste\n",
            "verde\n",
            "azul\n",
            "rojo\n",
            "burdeos\n",
            "magenta\n"
          ]
        }
      ],
      "source": [
        "# añadir valores\n",
        "colores.add(\"magenta\")\n",
        "print(colores)\n",
        "\n",
        "colores.update([\"celeste\", \"burdeos\", \"naranja\"])\n",
        "print(colores)\n",
        "\n",
        "colores.remove(\"naranja\")\n",
        "print(colores)\n",
        "\n",
        "for color in colores:\n",
        "    print(color)"
      ]
    },
    {
      "cell_type": "markdown",
      "metadata": {
        "id": "xX67xQfYvgJa"
      },
      "source": [
        "Para comprobar si dos sets tienen los mismos elementos"
      ]
    },
    {
      "cell_type": "code",
      "execution_count": 18,
      "metadata": {
        "id": "ejF1etckvgJa"
      },
      "outputs": [
        {
          "data": {
            "text/plain": [
              "True"
            ]
          },
          "execution_count": 18,
          "metadata": {},
          "output_type": "execute_result"
        }
      ],
      "source": [
        "set1 = {1,2,4,4,2,1,2,1}\n",
        "set2 = {2,1,4}\n",
        "\n",
        "set1 == set2"
      ]
    },
    {
      "cell_type": "code",
      "execution_count": 23,
      "metadata": {},
      "outputs": [
        {
          "name": "stdout",
          "output_type": "stream",
          "text": [
            "[100, 10, 23, 23, 15, 32, 45, 10, 100, 23]\n",
            "[32, 100, 10, 45, 15, 23]\n"
          ]
        }
      ],
      "source": [
        "lista_con = [100,10,23,23,15,32,45,10,100,23]\n",
        "print(lista_con)\n",
        "#print(set(lista_con))\n",
        "#print(list(set(lista_con)))\n",
        "lista_con = list(set(lista_con))\n",
        "print(lista_con)"
      ]
    },
    {
      "cell_type": "code",
      "execution_count": null,
      "metadata": {},
      "outputs": [],
      "source": []
    }
  ],
  "metadata": {
    "colab": {
      "provenance": []
    },
    "kernelspec": {
      "display_name": "Python 3",
      "language": "python",
      "name": "python3"
    },
    "language_info": {
      "codemirror_mode": {
        "name": "ipython",
        "version": 3
      },
      "file_extension": ".py",
      "mimetype": "text/x-python",
      "name": "python",
      "nbconvert_exporter": "python",
      "pygments_lexer": "ipython3",
      "version": "3.11.0"
    }
  },
  "nbformat": 4,
  "nbformat_minor": 0
}
