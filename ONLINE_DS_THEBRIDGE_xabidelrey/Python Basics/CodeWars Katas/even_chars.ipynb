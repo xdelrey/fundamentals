{
 "cells": [
  {
   "cell_type": "markdown",
   "id": "cf3590d1",
   "metadata": {},
   "source": [
    "## CODEWARS KATAS\n",
    "\n",
    "Write a function that returns a sequence (index begins with 1) of all the even characters from a string. If the string is smaller than two characters or longer than 100 characters, the function should return \"invalid string\".\n",
    "\n",
    "For example:\n",
    "```python\n",
    "\"abcdefghijklm\" --> [\"b\", \"d\", \"f\", \"h\", \"j\", \"l\"]\n",
    "\"a\"             --> \"invalid string\"\n",
    "```"
   ]
  },
  {
   "cell_type": "code",
   "execution_count": 4,
   "id": "d4f2a2f1",
   "metadata": {},
   "outputs": [],
   "source": [
    "def even_chars(st):\n",
    "    sequence = []\n",
    "    if 2 <= len(st) <= 100:\n",
    "        for i in range(len(st)):\n",
    "            if i % 2 == 0:\n",
    "                continue\n",
    "            else:\n",
    "                sequence.append(st[i])\n",
    "        return sequence\n",
    "    else:\n",
    "        return(\"invalid string\")"
   ]
  },
  {
   "cell_type": "code",
   "execution_count": 5,
   "id": "4a12126f",
   "metadata": {},
   "outputs": [
    {
     "name": "stdout",
     "output_type": "stream",
     "text": [
      "invalid string\n",
      "['b', 'd', 'f', 'h', 'j', 'l']\n",
      "['B', '_', '9', '*', '-', '$']\n"
     ]
    }
   ],
   "source": [
    "print(even_chars(\"a\")) #\"invalid string\"\n",
    "print(even_chars(\"abcdefghijklm\"))  #[\"b\", \"d\", \"f\", \"h\", \"j\", \"l\"]\n",
    "print(even_chars(\"aBc_e9g*i-k$m\")) #[\"B\", \"_\", \"9\", \"*\", \"-\", \"$\"]"
   ]
  },
  {
   "cell_type": "code",
   "execution_count": null,
   "id": "3f5614b4",
   "metadata": {},
   "outputs": [],
   "source": []
  }
 ],
 "metadata": {
  "kernelspec": {
   "display_name": "Python 3",
   "language": "python",
   "name": "python3"
  },
  "language_info": {
   "codemirror_mode": {
    "name": "ipython",
    "version": 3
   },
   "file_extension": ".py",
   "mimetype": "text/x-python",
   "name": "python",
   "nbconvert_exporter": "python",
   "pygments_lexer": "ipython3",
   "version": "3.11.0"
  }
 },
 "nbformat": 4,
 "nbformat_minor": 5
}
