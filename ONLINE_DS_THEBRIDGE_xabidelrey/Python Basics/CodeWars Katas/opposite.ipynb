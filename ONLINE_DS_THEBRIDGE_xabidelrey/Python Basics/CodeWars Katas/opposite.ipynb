{
 "cells": [
  {
   "cell_type": "markdown",
   "id": "44c444a8",
   "metadata": {},
   "source": [
    "## CODEWARS KATAS\n",
    "\n",
    "### Task\n",
    "Give you two strings: s1 and s2. If they are opposite, return true; otherwise, return false. Note: The result should be a boolean value, instead of a string.\n",
    "\n",
    "The opposite means: All letters of the two strings are the same, but the case is opposite. you can assume that the string only contains letters or it's a empty string. Also take note of the edge case - if both strings are empty then you should return false/False."
   ]
  },
  {
   "cell_type": "markdown",
   "id": "96dfdde4",
   "metadata": {},
   "source": [
    "### Examples (input -> output)\n",
    "```python\n",
    "\"ab\",\"AB\"     -> true\n",
    "\"aB\",\"Ab\"     -> true\n",
    "\"aBcd\",\"AbCD\" -> true\n",
    "\"AB\",\"Ab\"     -> false\n",
    "\"\",\"\"         -> false\n",
    "```"
   ]
  },
  {
   "cell_type": "code",
   "execution_count": 52,
   "id": "629e6066",
   "metadata": {},
   "outputs": [],
   "source": [
    "def is_opposite(s1, s2):\n",
    "    if s1.lower() == s2.lower():\n",
    "        if s1 == \"\" and s2 == \"\":\n",
    "            return False\n",
    "        else:\n",
    "            s3 = \"\"\n",
    "            for i in range(len(s1)):\n",
    "                if s1[i].islower():\n",
    "                    s3 = s3 + s1[i].upper()\n",
    "                else:\n",
    "                    s3 = s3 + s1[i].lower()\n",
    "            return s3 == s2\n",
    "    else:\n",
    "        print(\"Error. The strings are not the same.\")"
   ]
  },
  {
   "cell_type": "code",
   "execution_count": 56,
   "id": "2263e2ed",
   "metadata": {},
   "outputs": [
    {
     "name": "stdout",
     "output_type": "stream",
     "text": [
      "True\n",
      "True\n",
      "True\n",
      "False\n",
      "False\n"
     ]
    }
   ],
   "source": [
    "print(is_opposite(\"ab\",\"AB\")) # True\n",
    "print(is_opposite(\"aB\",\"Ab\")) # True\n",
    "print(is_opposite(\"aBcd\",\"AbCD\")) # True\n",
    "print(is_opposite(\"AB\",\"Ab\")) # False\n",
    "print(is_opposite(\"\",\"\")) # False"
   ]
  },
  {
   "cell_type": "code",
   "execution_count": null,
   "id": "54b74699",
   "metadata": {},
   "outputs": [],
   "source": []
  }
 ],
 "metadata": {
  "kernelspec": {
   "display_name": "Python 3",
   "language": "python",
   "name": "python3"
  },
  "language_info": {
   "codemirror_mode": {
    "name": "ipython",
    "version": 3
   },
   "file_extension": ".py",
   "mimetype": "text/x-python",
   "name": "python",
   "nbconvert_exporter": "python",
   "pygments_lexer": "ipython3",
   "version": "3.11.0"
  }
 },
 "nbformat": 4,
 "nbformat_minor": 5
}
