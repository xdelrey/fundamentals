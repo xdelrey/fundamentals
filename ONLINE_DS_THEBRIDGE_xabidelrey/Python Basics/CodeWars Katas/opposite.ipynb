{
 "cells": [
  {
   "cell_type": "markdown",
   "id": "44c444a8",
   "metadata": {},
   "source": [
    "### Task\n",
    "Give you two strings: s1 and s2. If they are opposite, return true; otherwise, return false. Note: The result should be a boolean value, instead of a string.\n",
    "\n",
    "The opposite means: All letters of the two strings are the same, but the case is opposite. you can assume that the string only contains letters or it's a empty string. Also take note of the edge case - if both strings are empty then you should return false/False."
   ]
  },
  {
   "cell_type": "markdown",
   "id": "96dfdde4",
   "metadata": {},
   "source": [
    "### Examples (input -> output)\n",
    "```python\n",
    "\"ab\",\"AB\"     -> true\n",
    "\"aB\",\"Ab\"     -> true\n",
    "\"aBcd\",\"AbCD\" -> true\n",
    "\"AB\",\"Ab\"     -> false\n",
    "\"\",\"\"         -> false\n",
    "```"
   ]
  },
  {
   "cell_type": "code",
   "execution_count": null,
   "id": "629e6066",
   "metadata": {},
   "outputs": [
    {
     "ename": "NameError",
     "evalue": "name 'lower' is not defined",
     "output_type": "error",
     "traceback": [
      "\u001b[31m---------------------------------------------------------------------------\u001b[39m",
      "\u001b[31mNameError\u001b[39m                                 Traceback (most recent call last)",
      "\u001b[36mCell\u001b[39m\u001b[36m \u001b[39m\u001b[32mIn[2]\u001b[39m\u001b[32m, line 4\u001b[39m\n\u001b[32m      2\u001b[39m s2 = \u001b[33m\"\u001b[39m\u001b[33mAB\u001b[39m\u001b[33m\"\u001b[39m\n\u001b[32m      3\u001b[39m strings = []\n\u001b[32m----> \u001b[39m\u001b[32m4\u001b[39m \u001b[38;5;28mprint\u001b[39m(\u001b[43mlower\u001b[49m(s1) != lower(s2))\n",
      "\u001b[31mNameError\u001b[39m: name 'lower' is not defined"
     ]
    }
   ],
   "source": [
    "s1 = \"ab\"\n",
    "s2 = \"AB\"\n",
    "strings = []\n",
    "print((s1) != lower(s2))"
   ]
  },
  {
   "cell_type": "code",
   "execution_count": null,
   "id": "2263e2ed",
   "metadata": {},
   "outputs": [],
   "source": []
  }
 ],
 "metadata": {
  "kernelspec": {
   "display_name": "Python 3",
   "language": "python",
   "name": "python3"
  },
  "language_info": {
   "codemirror_mode": {
    "name": "ipython",
    "version": 3
   },
   "file_extension": ".py",
   "mimetype": "text/x-python",
   "name": "python",
   "nbconvert_exporter": "python",
   "pygments_lexer": "ipython3",
   "version": "3.11.0"
  }
 },
 "nbformat": 4,
 "nbformat_minor": 5
}
