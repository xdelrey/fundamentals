{
 "cells": [
  {
   "cell_type": "markdown",
   "id": "8871073b",
   "metadata": {},
   "source": [
    "## CODEWARS KATAS\n",
    "\n",
    "### Task\n",
    "Given a string str, reverse it and omit all non-alphabetic characters.\n",
    "\n",
    "### Example\n",
    "For `str = \"krishan\" `, the output should be `\"nahsirk\"`.\n",
    "\n",
    "For `str = \"ultr53o?n\"`, the output should be `\"nortlu\"`.\n",
    "\n",
    "### Input/Output\n",
    "`[input] string str`\n",
    "\n",
    "A string consists of lowercase latin letters, digits and symbols.\n",
    "\n",
    "`[output] a string`"
   ]
  },
  {
   "cell_type": "code",
   "execution_count": 12,
   "id": "159c2d9c",
   "metadata": {},
   "outputs": [],
   "source": [
    "def reverse_letter(st):\n",
    "    s1 = \"\"\n",
    "    for i in st:\n",
    "        if i.isalpha():\n",
    "            s1 += i\n",
    "    return s1[::-1]"
   ]
  },
  {
   "cell_type": "code",
   "execution_count": 13,
   "id": "ca94fabe",
   "metadata": {},
   "outputs": [
    {
     "name": "stdout",
     "output_type": "stream",
     "text": [
      "nahsirk\n",
      "nortlu\n",
      "cba\n",
      "nahsirk\n"
     ]
    }
   ],
   "source": [
    "print(reverse_letter(\"krishan\")) #\"nahsirk\"\n",
    "print(reverse_letter(\"ultr53o?n\")) #\"nortlu\"\n",
    "print(reverse_letter(\"ab23c\")) #\"cba\"\n",
    "print(reverse_letter(\"krish21an\")) # \"nahsirk\""
   ]
  }
 ],
 "metadata": {
  "kernelspec": {
   "display_name": "Python 3",
   "language": "python",
   "name": "python3"
  },
  "language_info": {
   "codemirror_mode": {
    "name": "ipython",
    "version": 3
   },
   "file_extension": ".py",
   "mimetype": "text/x-python",
   "name": "python",
   "nbconvert_exporter": "python",
   "pygments_lexer": "ipython3",
   "version": "3.11.0"
  }
 },
 "nbformat": 4,
 "nbformat_minor": 5
}
