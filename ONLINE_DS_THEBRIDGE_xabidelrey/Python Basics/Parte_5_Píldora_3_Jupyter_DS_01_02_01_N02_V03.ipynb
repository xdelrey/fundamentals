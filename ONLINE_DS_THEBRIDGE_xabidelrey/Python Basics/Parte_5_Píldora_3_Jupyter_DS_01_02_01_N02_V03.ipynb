{
  "cells": [
    {
      "cell_type": "markdown",
      "metadata": {
        "id": "Qdg8ahgHpI_s"
      },
      "source": [
        "![TheBridge_Python_v0.png](attachment:TheBridge_Python_v0.png)"
      ]
    },
    {
      "cell_type": "markdown",
      "metadata": {
        "id": "H5__4cSXpI_w"
      },
      "source": [
        "##  Colecciones Python: Tuplas\n"
      ]
    },
    {
      "cell_type": "markdown",
      "metadata": {
        "id": "zgMvdRbgpI_x"
      },
      "source": [
        "### Contenidos\n"
      ]
    },
    {
      "cell_type": "markdown",
      "metadata": {
        "id": "6OTv19TcpI_y"
      },
      "source": [
        "* [Introducción](#Introducción)\n",
        "\n",
        "* [Listas y tuplas](#Listas-y-tuplas)\n",
        "\n"
      ]
    },
    {
      "cell_type": "markdown",
      "metadata": {
        "id": "R7p51cEqpI_y"
      },
      "source": [
        "### Introducción\n",
        "[al indice](#Contenidos)  \n",
        "\n",
        "Muy similares a las listas. Si en Notebooks anteriores definíamos a las listas como ordenadas y mutables, las tuplas son ordenadas e inmutables.\n",
        "\n",
        "* **Inmutables**: una vez creada la tupla con sus elementos iniciales, no se puede modificar\n",
        "* **Ordenadas**: podemos acceder a sus elementos a través del indice y reordenar la tupla según queramos\n",
        "\n",
        "Las tuplas se suelen usar para pequeñas colecciones de datos que no van a cambiar a lo largo del programa, como es el caso de las constantes.\n",
        "\n",
        "Si las listas se construían mediante corchetes `[]`, las tuplas lo hacen con los paréntesis `()`"
      ]
    },
    {
      "cell_type": "code",
      "execution_count": 1,
      "metadata": {
        "id": "x3MidUQ3pI_z"
      },
      "outputs": [
        {
          "name": "stdout",
          "output_type": "stream",
          "text": [
            "(3, 'Texto')\n",
            "<class 'tuple'>\n"
          ]
        }
      ],
      "source": [
        "tupla_ejemplo = (3, \"Texto\")\n",
        "print(tupla_ejemplo)\n",
        "print(type(tupla_ejemplo))\n"
      ]
    },
    {
      "cell_type": "markdown",
      "metadata": {
        "id": "dikBL6LkpI_z"
      },
      "source": [
        "Los paréntesis ya se usan para reordenar operaciones `5 * (3 + 4)`, por lo que hay que añadir una coma cuando definamos una tupla con un único elemento, sino Python lo interpretará como un número."
      ]
    },
    {
      "cell_type": "code",
      "execution_count": 4,
      "metadata": {
        "id": "6-k3nxJkpI_0"
      },
      "outputs": [
        {
          "name": "stdout",
          "output_type": "stream",
          "text": [
            "El primer elemento es 3\n",
            "El segundo elemento es Texto\n"
          ]
        }
      ],
      "source": [
        "print(\"El primer elemento es\", tupla_ejemplo[0])\n",
        "print(\"El segundo elemento es\", tupla_ejemplo[1])"
      ]
    },
    {
      "cell_type": "code",
      "execution_count": 7,
      "metadata": {
        "id": "GfOR1HlepI_0"
      },
      "outputs": [
        {
          "name": "stdout",
          "output_type": "stream",
          "text": [
            "<class 'int'> 24\n",
            "<class 'tuple'> (24,)\n"
          ]
        }
      ],
      "source": [
        "mala_tupla = (24)\n",
        "print(type(mala_tupla), mala_tupla)\n",
        "buena_tupla = (24,)\n",
        "print(type(buena_tupla), buena_tupla)"
      ]
    },
    {
      "cell_type": "code",
      "execution_count": 10,
      "metadata": {},
      "outputs": [
        {
          "name": "stdout",
          "output_type": "stream",
          "text": [
            "(1, 2, 3, ('A', 'B', 'C'))\n",
            "4\n"
          ]
        }
      ],
      "source": [
        "# anidación tupla\n",
        "tupla_anid = (1, 2, 3, (\"A\", \"B\", \"C\"))\n",
        "print(tupla_anid)\n",
        "print(len(tupla_anid))"
      ]
    },
    {
      "cell_type": "code",
      "execution_count": 12,
      "metadata": {},
      "outputs": [
        {
          "name": "stdout",
          "output_type": "stream",
          "text": [
            "3\n",
            "B\n"
          ]
        }
      ],
      "source": [
        "print(tupla_anid[2])\n",
        "print(tupla_anid[3][1])"
      ]
    },
    {
      "cell_type": "code",
      "execution_count": 13,
      "metadata": {},
      "outputs": [
        {
          "name": "stdout",
          "output_type": "stream",
          "text": [
            "1\n",
            "2\n",
            "3\n",
            "('A', 'B', 'C')\n"
          ]
        }
      ],
      "source": [
        "# Son iterables\n",
        "for i in tupla_anid:\n",
        "    print(i)"
      ]
    },
    {
      "cell_type": "code",
      "execution_count": 15,
      "metadata": {},
      "outputs": [
        {
          "name": "stdout",
          "output_type": "stream",
          "text": [
            "(3, ('A', 'B', 'C'))\n"
          ]
        }
      ],
      "source": [
        "# Slicing\n",
        "tupla_bis = tupla_anid[2:]\n",
        "print(tupla_bis)"
      ]
    },
    {
      "cell_type": "markdown",
      "metadata": {
        "id": "PzRap0ywpI_0"
      },
      "source": [
        "<table align=\"left\">\n",
        " <tr>\n",
        "     <td style=\"text-align:left\">\n",
        "         <h3>ERRORES tuplas</h3>\n",
        "         \n",
        " </td></tr>\n",
        "</table>"
      ]
    },
    {
      "cell_type": "markdown",
      "metadata": {
        "id": "RKHpRk2cpI_1"
      },
      "source": [
        "Cuidado que las tuplas son inmutables, y una vez creadas no las podrás modificar después"
      ]
    },
    {
      "cell_type": "code",
      "execution_count": 16,
      "metadata": {
        "id": "cA0f2LoUpI_1"
      },
      "outputs": [
        {
          "ename": "TypeError",
          "evalue": "'tuple' object does not support item assignment",
          "output_type": "error",
          "traceback": [
            "\u001b[31m---------------------------------------------------------------------------\u001b[39m",
            "\u001b[31mTypeError\u001b[39m                                 Traceback (most recent call last)",
            "\u001b[36mCell\u001b[39m\u001b[36m \u001b[39m\u001b[32mIn[16]\u001b[39m\u001b[32m, line 2\u001b[39m\n\u001b[32m      1\u001b[39m tupla_error = (\u001b[32m1\u001b[39m, \u001b[32m2\u001b[39m, \u001b[32m3\u001b[39m, \u001b[32m4\u001b[39m, \u001b[32m5\u001b[39m)\n\u001b[32m----> \u001b[39m\u001b[32m2\u001b[39m \u001b[43mtupla_error\u001b[49m\u001b[43m[\u001b[49m\u001b[32;43m3\u001b[39;49m\u001b[43m]\u001b[49m = \u001b[32m23\u001b[39m\n",
            "\u001b[31mTypeError\u001b[39m: 'tuple' object does not support item assignment"
          ]
        }
      ],
      "source": [
        "tupla_error = (1, 2, 3, 4, 5)\n",
        "tupla_error[3] = 23"
      ]
    },
    {
      "cell_type": "code",
      "execution_count": 17,
      "metadata": {
        "id": "KDFohNUOpI_1"
      },
      "outputs": [
        {
          "name": "stdout",
          "output_type": "stream",
          "text": [
            "(1, 2, 3, 4, 5, 6)\n",
            "(1, 2, 3, 4, 5, 6)\n",
            "(1, 2, 3, 4, 5, 6)\n"
          ]
        }
      ],
      "source": [
        "# Si queremos añadir elementos, podemos meterlos en otra tupla y sumarlas para que se concatenen\n",
        "tupla_1 = (1, 2, 3)\n",
        "tupla_2 = (4, 5, 6)\n",
        "print (tupla_1 + tupla_2)\n",
        "tupla_3 = tupla_1 + tupla_2\n",
        "tupla_1 = tupla_1 + tupla_2\n",
        "print(tupla_3)\n",
        "print(tupla_1)"
      ]
    },
    {
      "cell_type": "markdown",
      "metadata": {
        "id": "NRz38m3WpI_2"
      },
      "source": [
        "### Listas y tuplas\n",
        "[al indice](#Contenidos)  \n",
        "\n",
        "Podemos combinar listas y tuplas que no tendremos ningún problema, siempre y cuando respetemos las propiedades de cada tipo de dato."
      ]
    },
    {
      "cell_type": "code",
      "execution_count": 19,
      "metadata": {
        "id": "LXZX2PVHpI_2"
      },
      "outputs": [
        {
          "name": "stdout",
          "output_type": "stream",
          "text": [
            "['Fresas', ('naranjas', 'limons'), 'kiwis'] <class 'list'>\n",
            "('Fresas', ['Naranjas', 'limones'], 'kiwis') <class 'tuple'>\n"
          ]
        }
      ],
      "source": [
        "lista_ejemplo = [\"Fresas\", (\"naranjas\",\"limons\"), \"kiwis\"]\n",
        "tupla_lista = (\"Fresas\", [\"Naranjas\", \"limones\"], \"kiwis\")\n",
        "print(lista_ejemplo, type(lista_ejemplo))\n",
        "print(tupla_lista, type(tupla_lista))\n"
      ]
    },
    {
      "cell_type": "code",
      "execution_count": 21,
      "metadata": {
        "id": "jd5PhVqTpI_3"
      },
      "outputs": [
        {
          "name": "stdout",
          "output_type": "stream",
          "text": [
            "('Fresas', ['Peras', 'limones'], 'kiwis')\n"
          ]
        }
      ],
      "source": [
        "tupla_lista[1][0] =  \"Peras\"\n",
        "print(tupla_lista)"
      ]
    },
    {
      "cell_type": "code",
      "execution_count": null,
      "metadata": {},
      "outputs": [],
      "source": []
    }
  ],
  "metadata": {
    "colab": {
      "provenance": []
    },
    "kernelspec": {
      "display_name": "Python 3",
      "language": "python",
      "name": "python3"
    },
    "language_info": {
      "codemirror_mode": {
        "name": "ipython",
        "version": 3
      },
      "file_extension": ".py",
      "mimetype": "text/x-python",
      "name": "python",
      "nbconvert_exporter": "python",
      "pygments_lexer": "ipython3",
      "version": "3.11.0"
    }
  },
  "nbformat": 4,
  "nbformat_minor": 0
}
