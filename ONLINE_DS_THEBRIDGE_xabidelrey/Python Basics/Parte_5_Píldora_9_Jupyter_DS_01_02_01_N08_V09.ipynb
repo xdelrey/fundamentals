{
  "cells": [
    {
      "cell_type": "markdown",
      "metadata": {
        "id": "ooOKviIY4Jhn"
      },
      "source": [
        "![TheBridge_Python_v0.png](attachment:TheBridge_Python_v0.png)"
      ]
    },
    {
      "cell_type": "markdown",
      "metadata": {
        "id": "EAAtXKTU4Jhs"
      },
      "source": [
        "##  Argumentos variables\n"
      ]
    },
    {
      "cell_type": "markdown",
      "metadata": {
        "id": "SBOTOHX74Jht"
      },
      "source": [
        "### Contenidos\n"
      ]
    },
    {
      "cell_type": "markdown",
      "metadata": {
        "id": "uOMbcnee4Jht"
      },
      "source": [
        "* [Introducción  ](#Introducción--)\n"
      ]
    },
    {
      "cell_type": "markdown",
      "metadata": {
        "id": "hbGWDYTs4Jhu"
      },
      "source": [
        "### Introducción  \n",
        "[al indice](#Contenidos)  \n",
        "En los ejemplos de la sesión anterior teníamos que fijar un número concreto de argumentos para nuestras funciones, pero hay ocasiones que no tenemos seguro cuántos argumentos son. Por suerte, las funciones de Python nos aportan esa flexibilidad mediante `*`\n",
        "\n",
        "Veamos cómo implementar una función multiplicadora con numero variable de argumentos"
      ]
    },
    {
      "cell_type": "code",
      "execution_count": 2,
      "metadata": {
        "id": "lm6bJVV44Jhv"
      },
      "outputs": [
        {
          "name": "stdout",
          "output_type": "stream",
          "text": [
            "(2, 3, 5)\n",
            "<class 'tuple'>\n",
            "(1, 2, 4, 67, 4)\n",
            "<class 'tuple'>\n"
          ]
        }
      ],
      "source": [
        "def multiplica(*argumentos):\n",
        "    print(argumentos)\n",
        "    print(type(argumentos))\n",
        "\n",
        "multiplica(2,3,5)\n",
        "multiplica(1,2,4,67,4)"
      ]
    },
    {
      "cell_type": "code",
      "execution_count": 7,
      "metadata": {},
      "outputs": [
        {
          "name": "stdout",
          "output_type": "stream",
          "text": [
            "El siguiente elmento es 2\n",
            "El siguiente elmento es 4\n",
            "El siguiente elmento es 5\n",
            "El resultado es 40\n",
            "El siguiente elmento es 23\n",
            "El siguiente elmento es 12\n",
            "El resultado es 276\n",
            "El resultado es 1\n"
          ]
        },
        {
          "data": {
            "text/plain": [
              "1"
            ]
          },
          "execution_count": 7,
          "metadata": {},
          "output_type": "execute_result"
        }
      ],
      "source": [
        "def multiplica(*args):\n",
        "    resultado = 1\n",
        "    for indice, elemento in enumerate(args):\n",
        "        print(\"El siguiente elmento es\", args[indice])\n",
        "        resultado = resultado * elemento\n",
        "    print(\"El resultado es\", resultado)\n",
        "    return resultado\n",
        "\n",
        "multiplica(2,4,5)\n",
        "multiplica(23,12)\n",
        "multiplica()"
      ]
    },
    {
      "cell_type": "markdown",
      "metadata": {
        "id": "50srbHpD4Jhv"
      },
      "source": [
        "Ten en cuenta que `*args` es algo variable con X elementos. Como no sabemos a priori cuantos son, tendremos que recorrerlos con un `for`, y para cada argumento, aplicarle una operación. Por tanto, `*args` es un iterable, en concreto una **tupla**. Lo que le está dando la funcionalidad de \"argumentos variables\" es `*`, no `args`. Igual que ponemos `*args`, podemos poner `*argumentos`.\n",
        "\n",
        "Puedes combinar argumentos posicionales con los `*args`"
      ]
    },
    {
      "cell_type": "code",
      "execution_count": 11,
      "metadata": {
        "id": "D1yEEaN44Jhw"
      },
      "outputs": [
        {
          "data": {
            "text/plain": [
              "1428.0"
            ]
          },
          "execution_count": 11,
          "metadata": {},
          "output_type": "execute_result"
        }
      ],
      "source": [
        "# En este ejemplo, uso el ultimo argumento para dividir todo lo que habiamos multiplicado por este argumento\n",
        "def multiplica_divide(*args, div):\n",
        "    resultado = 1\n",
        "    for i in args:\n",
        "        resultado = resultado * i\n",
        "    resultado = resultado / div\n",
        "    return resultado\n",
        "\n",
        "multiplica_divide(10,34,21,div=5)"
      ]
    },
    {
      "cell_type": "code",
      "execution_count": 12,
      "metadata": {},
      "outputs": [
        {
          "data": {
            "text/plain": [
              "1428.0"
            ]
          },
          "execution_count": 12,
          "metadata": {},
          "output_type": "execute_result"
        }
      ],
      "source": [
        "def multiplica_divide(div, *args):\n",
        "    resultado = 1\n",
        "    for i in args:\n",
        "        resultado = resultado * i\n",
        "    resultado = resultado / div\n",
        "    return resultado\n",
        "\n",
        "multiplica_divide(5,10,34,21)"
      ]
    },
    {
      "cell_type": "code",
      "execution_count": 13,
      "metadata": {},
      "outputs": [
        {
          "ename": "TypeError",
          "evalue": "multiplica_divide() got multiple values for argument 'div'",
          "output_type": "error",
          "traceback": [
            "\u001b[31m---------------------------------------------------------------------------\u001b[39m",
            "\u001b[31mTypeError\u001b[39m                                 Traceback (most recent call last)",
            "\u001b[36mCell\u001b[39m\u001b[36m \u001b[39m\u001b[32mIn[13]\u001b[39m\u001b[32m, line 8\u001b[39m\n\u001b[32m      5\u001b[39m     resultado = resultado / div\n\u001b[32m      6\u001b[39m     \u001b[38;5;28;01mreturn\u001b[39;00m resultado\n\u001b[32m----> \u001b[39m\u001b[32m8\u001b[39m \u001b[43mmultiplica_divide\u001b[49m\u001b[43m(\u001b[49m\u001b[32;43m10\u001b[39;49m\u001b[43m,\u001b[49m\u001b[32;43m34\u001b[39;49m\u001b[43m,\u001b[49m\u001b[32;43m21\u001b[39;49m\u001b[43m,\u001b[49m\u001b[43m \u001b[49m\u001b[43mdiv\u001b[49m\u001b[43m=\u001b[49m\u001b[43m \u001b[49m\u001b[32;43m5\u001b[39;49m\u001b[43m)\u001b[49m\n",
            "\u001b[31mTypeError\u001b[39m: multiplica_divide() got multiple values for argument 'div'"
          ]
        }
      ],
      "source": [
        "def multiplica_divide(div, *args):\n",
        "    resultado = 1\n",
        "    for i in args:\n",
        "        resultado = resultado * i\n",
        "    resultado = resultado / div\n",
        "    return resultado\n",
        "\n",
        "multiplica_divide(10,34,21, div= 5)"
      ]
    },
    {
      "cell_type": "markdown",
      "metadata": {
        "id": "waGJury14Jhx"
      },
      "source": [
        "<table align=\"left\">\n",
        " <tr>\n",
        "     <td style=\"text-align:left\">\n",
        "         <h3>ERRORES con argumentos variables</h3>\n",
        "         \n",
        " </td></tr>\n",
        "</table>"
      ]
    },
    {
      "cell_type": "markdown",
      "metadata": {
        "id": "Eq69aw1f4Jhy"
      },
      "source": [
        "Declara los argumentos variables al principio, y los fijos al final para evitar errores. Además, si los combinas, tendrás que concretar cuáles son los argumentos fijos"
      ]
    },
    {
      "cell_type": "code",
      "execution_count": null,
      "metadata": {
        "id": "vZgZuW314Jhy"
      },
      "outputs": [],
      "source": []
    },
    {
      "cell_type": "code",
      "execution_count": null,
      "metadata": {
        "id": "O3C-C9A44Jhz"
      },
      "outputs": [],
      "source": []
    }
  ],
  "metadata": {
    "colab": {
      "provenance": []
    },
    "kernelspec": {
      "display_name": "Python 3",
      "language": "python",
      "name": "python3"
    },
    "language_info": {
      "codemirror_mode": {
        "name": "ipython",
        "version": 3
      },
      "file_extension": ".py",
      "mimetype": "text/x-python",
      "name": "python",
      "nbconvert_exporter": "python",
      "pygments_lexer": "ipython3",
      "version": "3.11.0"
    }
  },
  "nbformat": 4,
  "nbformat_minor": 0
}
